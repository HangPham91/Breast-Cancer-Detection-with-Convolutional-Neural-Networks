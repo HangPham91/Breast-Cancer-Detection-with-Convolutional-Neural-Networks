{
 "cells": [
  {
   "cell_type": "code",
   "execution_count": null,
   "metadata": {},
   "outputs": [],
   "source": [
    "import os\n",
    "import numpy as np\n",
    "import shutil\n",
    "import pandas as pd\n",
    "import matplotlib.pyplot as plt\n",
    "import seaborn as sns\n",
    "import itertools\n",
    "from skimage.filters import gaussian\n",
    "from skimage.util import random_noise\n",
    "import matplotlib.image as mpimg\n",
    "\n",
    "from sklearn.model_selection import train_test_split\n",
    "\n",
    "import tensorflow\n",
    "from tensorflow.keras.preprocessing.image import ImageDataGenerator\n",
    "from tensorflow.keras.models import Sequential\n",
    "from tensorflow.keras.models import model_from_json\n",
    "from tensorflow.keras.layers import Dense\n",
    "from tensorflow.keras.layers import Conv2D\n",
    "from tensorflow.keras.layers import MaxPool2D,Dropout,MaxPooling2D\n",
    "from tensorflow.keras.layers import Flatten\n",
    "from tensorflow.keras.callbacks import EarlyStopping,ModelCheckpoint\n",
    "from tensorflow.keras.optimizers import Adam, SGD\n",
    "from keras.metrics import binary_crossentropy"
   ]
  },
  {
   "cell_type": "markdown",
   "metadata": {},
   "source": [
    "To facilitate the process of dealing with screening mammograms images, we will collect all the images in one place, while retaining ownership of each image and its class as well..."
   ]
  },
  {
   "cell_type": "code",
   "execution_count": 2,
   "metadata": {},
   "outputs": [
    {
     "data": {
      "text/plain": [
       "277524"
      ]
     },
     "execution_count": 2,
     "metadata": {},
     "output_type": "execute_result"
    }
   ],
   "source": [
    "\n",
    "all_rays_dir_lst = os.listdir('./all_rays_dir') \n",
    "len(all_rays_dir_lst)"
   ]
  },
  {
   "cell_type": "code",
   "execution_count": 3,
   "metadata": {},
   "outputs": [
    {
     "data": {
      "text/html": [
       "<div>\n",
       "<style scoped>\n",
       "    .dataframe tbody tr th:only-of-type {\n",
       "        vertical-align: middle;\n",
       "    }\n",
       "\n",
       "    .dataframe tbody tr th {\n",
       "        vertical-align: top;\n",
       "    }\n",
       "\n",
       "    .dataframe thead th {\n",
       "        text-align: right;\n",
       "    }\n",
       "</style>\n",
       "<table border=\"1\" class=\"dataframe\">\n",
       "  <thead>\n",
       "    <tr style=\"text-align: right;\">\n",
       "      <th></th>\n",
       "      <th>image_id</th>\n",
       "    </tr>\n",
       "  </thead>\n",
       "  <tbody>\n",
       "    <tr>\n",
       "      <th>0</th>\n",
       "      <td>10299_idx5_x1851_y2251_class1.png</td>\n",
       "    </tr>\n",
       "    <tr>\n",
       "      <th>1</th>\n",
       "      <td>16550_idx5_x2251_y2351_class0.png</td>\n",
       "    </tr>\n",
       "    <tr>\n",
       "      <th>2</th>\n",
       "      <td>12954_idx5_x2201_y601_class0.png</td>\n",
       "    </tr>\n",
       "    <tr>\n",
       "      <th>3</th>\n",
       "      <td>10302_idx5_x901_y601_class0.png</td>\n",
       "    </tr>\n",
       "    <tr>\n",
       "      <th>4</th>\n",
       "      <td>13693_idx5_x2401_y1451_class0.png</td>\n",
       "    </tr>\n",
       "  </tbody>\n",
       "</table>\n",
       "</div>"
      ],
      "text/plain": [
       "                            image_id\n",
       "0  10299_idx5_x1851_y2251_class1.png\n",
       "1  16550_idx5_x2251_y2351_class0.png\n",
       "2   12954_idx5_x2201_y601_class0.png\n",
       "3    10302_idx5_x901_y601_class0.png\n",
       "4  13693_idx5_x2401_y1451_class0.png"
      ]
     },
     "execution_count": 3,
     "metadata": {},
     "output_type": "execute_result"
    }
   ],
   "source": [
    "#Then, it's time to put images in a data_frame for easy access:\n",
    "data = pd.DataFrame(all_rays_dir_lst, columns=['image_id'])\n",
    "data.head()"
   ]
  },
  {
   "cell_type": "code",
   "execution_count": null,
   "metadata": {},
   "outputs": [],
   "source": [
    "#Image's names has a format [0]_[1]_[2]_[3]_[4].png ->use split() function to separate them\n",
    "def extract_target(x):\n",
    "    a = x.split('_')\n",
    "    b = a[4]\n",
    "    target = b[5] # target is either 0 or 1\n",
    "    print(\"x is:\", x, \"----- a = \", a, \" ----- b = \", b, \"----- target = \", target)\n",
    "    return target\n",
    "\n",
    "data['target'] = data['image_id'].apply(extract_target) # define column 'target'\n",
    "\n",
    "data.head(5)"
   ]
  },
  {
   "cell_type": "code",
   "execution_count": 5,
   "metadata": {},
   "outputs": [
    {
     "data": {
      "text/plain": [
       "target\n",
       "0    198738\n",
       "1     78786\n",
       "Name: count, dtype: int64"
      ]
     },
     "execution_count": 5,
     "metadata": {},
     "output_type": "execute_result"
    }
   ],
   "source": [
    "data['target'].value_counts()"
   ]
  },
  {
   "cell_type": "code",
   "execution_count": 6,
   "metadata": {},
   "outputs": [
    {
     "name": "stdout",
     "output_type": "stream",
     "text": [
      "----- training data ----- \n",
      "----- testing data ----- \n"
     ]
    },
    {
     "data": {
      "text/html": [
       "<div>\n",
       "<style scoped>\n",
       "    .dataframe tbody tr th:only-of-type {\n",
       "        vertical-align: middle;\n",
       "    }\n",
       "\n",
       "    .dataframe tbody tr th {\n",
       "        vertical-align: top;\n",
       "    }\n",
       "\n",
       "    .dataframe thead th {\n",
       "        text-align: right;\n",
       "    }\n",
       "</style>\n",
       "<table border=\"1\" class=\"dataframe\">\n",
       "  <thead>\n",
       "    <tr style=\"text-align: right;\">\n",
       "      <th></th>\n",
       "      <th>image_id</th>\n",
       "      <th>target</th>\n",
       "    </tr>\n",
       "  </thead>\n",
       "  <tbody>\n",
       "    <tr>\n",
       "      <th>264310</th>\n",
       "      <td>9290_idx5_x2251_y451_class0.png</td>\n",
       "      <td>0</td>\n",
       "    </tr>\n",
       "    <tr>\n",
       "      <th>17213</th>\n",
       "      <td>9226_idx5_x2201_y2301_class0.png</td>\n",
       "      <td>0</td>\n",
       "    </tr>\n",
       "    <tr>\n",
       "      <th>83037</th>\n",
       "      <td>9123_idx5_x1901_y2051_class0.png</td>\n",
       "      <td>0</td>\n",
       "    </tr>\n",
       "    <tr>\n",
       "      <th>83144</th>\n",
       "      <td>8918_idx5_x2051_y2051_class0.png</td>\n",
       "      <td>0</td>\n",
       "    </tr>\n",
       "    <tr>\n",
       "      <th>141960</th>\n",
       "      <td>13916_idx5_x2001_y1201_class0.png</td>\n",
       "      <td>0</td>\n",
       "    </tr>\n",
       "  </tbody>\n",
       "</table>\n",
       "</div>"
      ],
      "text/plain": [
       "                                 image_id target\n",
       "264310    9290_idx5_x2251_y451_class0.png      0\n",
       "17213    9226_idx5_x2201_y2301_class0.png      0\n",
       "83037    9123_idx5_x1901_y2051_class0.png      0\n",
       "83144    8918_idx5_x2051_y2051_class0.png      0\n",
       "141960  13916_idx5_x2001_y1201_class0.png      0"
      ]
     },
     "execution_count": 6,
     "metadata": {},
     "output_type": "execute_result"
    }
   ],
   "source": [
    "y = data['target']\n",
    "data_train, data_test = train_test_split(data, test_size=0.10, random_state=101, stratify=y)\n",
    "print(\"----- training data ----- \")\n",
    "data_train.head(5)\n",
    "print(\"----- testing data ----- \")\n",
    "data_test.head(5)\n",
    "\n"
   ]
  },
  {
   "cell_type": "code",
   "execution_count": 7,
   "metadata": {},
   "outputs": [
    {
     "name": "stdout",
     "output_type": "stream",
     "text": [
      "train \n"
     ]
    },
    {
     "data": {
      "text/plain": [
       "59557      12824_idx5_x1851_y201_class0.png\n",
       "13319      12890_idx5_x1501_y551_class0.png\n",
       "271044    15514_idx5_x1401_y1951_class0.png\n",
       "50462        8974_idx5_x401_y751_class0.png\n",
       "180418    13400_idx5_x2601_y2351_class0.png\n",
       "Name: image_id, dtype: object"
      ]
     },
     "execution_count": 7,
     "metadata": {},
     "output_type": "execute_result"
    }
   ],
   "source": [
    "train = data_train.image_id\n",
    "test  = data_test.image_id\n",
    "print(\"train \")\n",
    "train.head(5)"
   ]
  },
  {
   "cell_type": "code",
   "execution_count": 8,
   "metadata": {},
   "outputs": [],
   "source": [
    "data_generation = ImageDataGenerator(rescale=1.0/255)"
   ]
  },
  {
   "cell_type": "code",
   "execution_count": 9,
   "metadata": {},
   "outputs": [
    {
     "name": "stdout",
     "output_type": "stream",
     "text": [
      "Found 251481 images belonging to 2 classes.\n",
      "Found 29449 images belonging to 2 classes.\n"
     ]
    }
   ],
   "source": [
    "train_generation = data_generation.flow_from_directory(\n",
    "                                        \"train_dir\",\n",
    "                                        target_size=(25,25),\n",
    "                                        batch_size=10,\n",
    "                                        class_mode='categorical')\n",
    "test_generation = data_generation.flow_from_directory(\n",
    "                                        \"test_dir\",\n",
    "                                        target_size=(25,25),\n",
    "                                        batch_size=10,\n",
    "                                        class_mode='categorical')"
   ]
  },
  {
   "cell_type": "markdown",
   "metadata": {},
   "source": [
    "MODELLING"
   ]
  },
  {
   "cell_type": "markdown",
   "metadata": {},
   "source": [
    "In this step, I define a model consisting of 4 convolutional layers/hidden layers Conv2D(), activation function is Rectified Linear Units (ReLu), and the input of shape (25, 25, 3). I will then add the max-pooling layer with MaxPooling2D() after each convolutional layer. \n",
    "After 4 conv layers, I will flatten the 3D output to 1D using Flatten(), then add one Dense layer/fully connected layer on top to perform classification, this layer includes 64 nodes. To avoid the overfitting issue occuring while training, I add drop out = 0.5. The last Dense layer has a softmax activation function with 2 outputs corresponding to 2 classes of the problem, i.e IDC and non IDC classes."
   ]
  },
  {
   "cell_type": "code",
   "execution_count": null,
   "metadata": {},
   "outputs": [],
   "source": [
    "model = Sequential()\n",
    "# 1st Conv layer has 32 - 3x3 filters/kernels\n",
    "model.add(Conv2D(32, (3, 3), activation='relu', kernel_initializer='he_uniform', padding='same', input_shape=(25, 25, 3))) \n",
    "#image_height=25, image_width=25, image_depth=3(R,G,B)\n",
    "\n",
    "# 2nd Conv layer has 32 - 3x3 filters/kernels\n",
    "model.add(Conv2D(32, (3, 3), activation='relu', kernel_initializer='he_uniform', padding='same'))\n",
    "model.add(MaxPooling2D((2, 2)))   # max-pooling layers each of size 2x2\n",
    "\n",
    "# 3rd Conv layer has 64 - 3x3 filters/kernels\n",
    "model.add(Conv2D(64, (3, 3), activation='relu', kernel_initializer='he_uniform', padding='same'))\n",
    "model.add(MaxPooling2D((2, 2))) \n",
    "\n",
    "# 4nd Conv layer has 64 - 3x3 filters/kernels\n",
    "model.add(Conv2D(64, (3, 3), activation='relu', kernel_initializer='he_uniform', padding='same'))\n",
    "model.add(MaxPooling2D((2, 2)))\n",
    "\n",
    "#flatten (or unroll) the 3D output to 1D\n",
    "model.add(Flatten()) \n",
    "\n",
    "#add two Dense layers/fully connected layers on top to perform classification. This layer has 64 nodes\n",
    "model.add(Dense(64, activation='relu', kernel_initializer='he_uniform'))\n",
    "#in order to avoid overfitting, adding dropout=0.5\n",
    "model.add(Dropout(0.5))\n",
    "#This following dense layer uses a softmax activation function to produce a probability distribution over the classes. Here we have 2 classes: IDC and non IDC => Dense(2)\n",
    "model.add(Dense(2, activation='softmax')) \n",
    "model.summary()"
   ]
  },
  {
   "cell_type": "markdown",
   "metadata": {},
   "source": [
    "COMPILE THE MODEL\n",
    "\n",
    "Once the model is created, I compile it with Adam optimizer, a common optimization algorithm with learning rate = 1e-06. I pick this small number of learning rate to let the model learns the dataset slower but deeper compared to a large value. The loss function is the binary cross-entropy which is used to multi-class classification. Lastly, I specify the metrics as accuracy which I want to analyze while the model is training.\n"
   ]
  },
  {
   "cell_type": "code",
   "execution_count": 11,
   "metadata": {},
   "outputs": [],
   "source": [
    "#compile model\n",
    "model.compile(Adam(learning_rate= 1e-4), loss='binary_crossentropy', metrics=['accuracy'])"
   ]
  },
  {
   "cell_type": "markdown",
   "metadata": {},
   "source": [
    "TRAIN THE MODEL\n",
    "The model will be fit for 10 training epochs, the validation dataset is the test dataset. "
   ]
  },
  {
   "cell_type": "markdown",
   "metadata": {},
   "source": [
    "so far, learn rate = 1e-04 is the best one"
   ]
  },
  {
   "cell_type": "code",
   "execution_count": 12,
   "metadata": {},
   "outputs": [
    {
     "name": "stdout",
     "output_type": "stream",
     "text": [
      "Epoch 1/10\n",
      "\u001b[1m   11/25149\u001b[0m \u001b[37m━━━━━━━━━━━━━━━━━━━━\u001b[0m \u001b[1m2:08\u001b[0m 5ms/step - accuracy: 0.5771 - loss: 1.2484     "
     ]
    },
    {
     "name": "stderr",
     "output_type": "stream",
     "text": [
      "/home/hp/.local/lib/python3.10/site-packages/keras/src/trainers/data_adapters/py_dataset_adapter.py:120: UserWarning: Your `PyDataset` class should call `super().__init__(**kwargs)` in its constructor. `**kwargs` can include `workers`, `use_multiprocessing`, `max_queue_size`. Do not pass these arguments to `fit()`, as they will be ignored.\n",
      "  self._warn_if_super_not_called()\n"
     ]
    },
    {
     "name": "stdout",
     "output_type": "stream",
     "text": [
      "\u001b[1m25149/25149\u001b[0m \u001b[32m━━━━━━━━━━━━━━━━━━━━\u001b[0m\u001b[37m\u001b[0m \u001b[1m126s\u001b[0m 5ms/step - accuracy: 0.8082 - loss: 0.4361 - val_accuracy: 0.8457 - val_loss: 0.3549\n",
      "Epoch 2/10\n",
      "\u001b[1m25149/25149\u001b[0m \u001b[32m━━━━━━━━━━━━━━━━━━━━\u001b[0m\u001b[37m\u001b[0m \u001b[1m130s\u001b[0m 5ms/step - accuracy: 0.8463 - loss: 0.3618 - val_accuracy: 0.8520 - val_loss: 0.3424\n",
      "Epoch 3/10\n",
      "\u001b[1m25149/25149\u001b[0m \u001b[32m━━━━━━━━━━━━━━━━━━━━\u001b[0m\u001b[37m\u001b[0m \u001b[1m135s\u001b[0m 5ms/step - accuracy: 0.8565 - loss: 0.3391 - val_accuracy: 0.8636 - val_loss: 0.3222\n",
      "Epoch 4/10\n",
      "\u001b[1m25149/25149\u001b[0m \u001b[32m━━━━━━━━━━━━━━━━━━━━\u001b[0m\u001b[37m\u001b[0m \u001b[1m128s\u001b[0m 5ms/step - accuracy: 0.8634 - loss: 0.3262 - val_accuracy: 0.8678 - val_loss: 0.3110\n",
      "Epoch 5/10\n",
      "\u001b[1m25149/25149\u001b[0m \u001b[32m━━━━━━━━━━━━━━━━━━━━\u001b[0m\u001b[37m\u001b[0m \u001b[1m126s\u001b[0m 5ms/step - accuracy: 0.8687 - loss: 0.3154 - val_accuracy: 0.8690 - val_loss: 0.3070\n",
      "Epoch 6/10\n",
      "\u001b[1m25149/25149\u001b[0m \u001b[32m━━━━━━━━━━━━━━━━━━━━\u001b[0m\u001b[37m\u001b[0m \u001b[1m131s\u001b[0m 5ms/step - accuracy: 0.8730 - loss: 0.3047 - val_accuracy: 0.8658 - val_loss: 0.3295\n",
      "Epoch 7/10\n",
      "\u001b[1m25149/25149\u001b[0m \u001b[32m━━━━━━━━━━━━━━━━━━━━\u001b[0m\u001b[37m\u001b[0m \u001b[1m112s\u001b[0m 4ms/step - accuracy: 0.8758 - loss: 0.2986 - val_accuracy: 0.8752 - val_loss: 0.2935\n",
      "Epoch 8/10\n",
      "\u001b[1m25149/25149\u001b[0m \u001b[32m━━━━━━━━━━━━━━━━━━━━\u001b[0m\u001b[37m\u001b[0m \u001b[1m107s\u001b[0m 4ms/step - accuracy: 0.8764 - loss: 0.2947 - val_accuracy: 0.8755 - val_loss: 0.2902\n",
      "Epoch 9/10\n",
      "\u001b[1m25149/25149\u001b[0m \u001b[32m━━━━━━━━━━━━━━━━━━━━\u001b[0m\u001b[37m\u001b[0m \u001b[1m111s\u001b[0m 4ms/step - accuracy: 0.8797 - loss: 0.2880 - val_accuracy: 0.8776 - val_loss: 0.2895\n",
      "Epoch 10/10\n",
      "\u001b[1m25149/25149\u001b[0m \u001b[32m━━━━━━━━━━━━━━━━━━━━\u001b[0m\u001b[37m\u001b[0m \u001b[1m108s\u001b[0m 4ms/step - accuracy: 0.8823 - loss: 0.2811 - val_accuracy: 0.8745 - val_loss: 0.2950\n"
     ]
    },
    {
     "data": {
      "text/plain": [
       "<keras.src.callbacks.history.History at 0x7909251bc250>"
      ]
     },
     "execution_count": 12,
     "metadata": {},
     "output_type": "execute_result"
    }
   ],
   "source": [
    "model.fit(train_generation,validation_data=test_generation, epochs= 10, verbose=1)"
   ]
  },
  {
   "cell_type": "markdown",
   "metadata": {},
   "source": [
    "OUTCOMES"
   ]
  },
  {
   "cell_type": "code",
   "execution_count": 13,
   "metadata": {},
   "outputs": [
    {
     "data": {
      "text/html": [
       "<div>\n",
       "<style scoped>\n",
       "    .dataframe tbody tr th:only-of-type {\n",
       "        vertical-align: middle;\n",
       "    }\n",
       "\n",
       "    .dataframe tbody tr th {\n",
       "        vertical-align: top;\n",
       "    }\n",
       "\n",
       "    .dataframe thead th {\n",
       "        text-align: right;\n",
       "    }\n",
       "</style>\n",
       "<table border=\"1\" class=\"dataframe\">\n",
       "  <thead>\n",
       "    <tr style=\"text-align: right;\">\n",
       "      <th></th>\n",
       "      <th>accuracy</th>\n",
       "      <th>loss</th>\n",
       "      <th>val_accuracy</th>\n",
       "      <th>val_loss</th>\n",
       "    </tr>\n",
       "  </thead>\n",
       "  <tbody>\n",
       "    <tr>\n",
       "      <th>0</th>\n",
       "      <td>0.828496</td>\n",
       "      <td>0.399753</td>\n",
       "      <td>0.845665</td>\n",
       "      <td>0.354943</td>\n",
       "    </tr>\n",
       "    <tr>\n",
       "      <th>1</th>\n",
       "      <td>0.849277</td>\n",
       "      <td>0.356233</td>\n",
       "      <td>0.852015</td>\n",
       "      <td>0.342424</td>\n",
       "    </tr>\n",
       "    <tr>\n",
       "      <th>2</th>\n",
       "      <td>0.858618</td>\n",
       "      <td>0.335672</td>\n",
       "      <td>0.863561</td>\n",
       "      <td>0.322214</td>\n",
       "    </tr>\n",
       "    <tr>\n",
       "      <th>3</th>\n",
       "      <td>0.864487</td>\n",
       "      <td>0.322887</td>\n",
       "      <td>0.867839</td>\n",
       "      <td>0.311009</td>\n",
       "    </tr>\n",
       "    <tr>\n",
       "      <th>4</th>\n",
       "      <td>0.869362</td>\n",
       "      <td>0.312940</td>\n",
       "      <td>0.868960</td>\n",
       "      <td>0.307016</td>\n",
       "    </tr>\n",
       "    <tr>\n",
       "      <th>5</th>\n",
       "      <td>0.872686</td>\n",
       "      <td>0.305361</td>\n",
       "      <td>0.865768</td>\n",
       "      <td>0.329507</td>\n",
       "    </tr>\n",
       "    <tr>\n",
       "      <th>6</th>\n",
       "      <td>0.875486</td>\n",
       "      <td>0.298966</td>\n",
       "      <td>0.875208</td>\n",
       "      <td>0.293455</td>\n",
       "    </tr>\n",
       "    <tr>\n",
       "      <th>7</th>\n",
       "      <td>0.877239</td>\n",
       "      <td>0.292698</td>\n",
       "      <td>0.875480</td>\n",
       "      <td>0.290229</td>\n",
       "    </tr>\n",
       "    <tr>\n",
       "      <th>8</th>\n",
       "      <td>0.879728</td>\n",
       "      <td>0.287460</td>\n",
       "      <td>0.877551</td>\n",
       "      <td>0.289533</td>\n",
       "    </tr>\n",
       "    <tr>\n",
       "      <th>9</th>\n",
       "      <td>0.881601</td>\n",
       "      <td>0.281977</td>\n",
       "      <td>0.874495</td>\n",
       "      <td>0.295032</td>\n",
       "    </tr>\n",
       "  </tbody>\n",
       "</table>\n",
       "</div>"
      ],
      "text/plain": [
       "   accuracy      loss  val_accuracy  val_loss\n",
       "0  0.828496  0.399753      0.845665  0.354943\n",
       "1  0.849277  0.356233      0.852015  0.342424\n",
       "2  0.858618  0.335672      0.863561  0.322214\n",
       "3  0.864487  0.322887      0.867839  0.311009\n",
       "4  0.869362  0.312940      0.868960  0.307016\n",
       "5  0.872686  0.305361      0.865768  0.329507\n",
       "6  0.875486  0.298966      0.875208  0.293455\n",
       "7  0.877239  0.292698      0.875480  0.290229\n",
       "8  0.879728  0.287460      0.877551  0.289533\n",
       "9  0.881601  0.281977      0.874495  0.295032"
      ]
     },
     "execution_count": 13,
     "metadata": {},
     "output_type": "execute_result"
    }
   ],
   "source": [
    "model_train = pd.DataFrame(model.history.history)\n",
    "model_train.head(10)"
   ]
  },
  {
   "cell_type": "code",
   "execution_count": 14,
   "metadata": {},
   "outputs": [
    {
     "data": {
      "image/png": "[encoded data removed]",
      "text/plain": [
       "<Figure size 640x480 with 1 Axes>"
      ]
     },
     "metadata": {},
     "output_type": "display_data"
    }
   ],
   "source": [
    "model_train[['accuracy','val_accuracy']].plot()\n",
    "plt.title('Model Accuracy')\n",
    "plt.xlabel('Epoch')\n",
    "plt.ylabel('Accuracy')\n",
    "plt.legend(['Train','Validation'],loc='upper left')\n",
    "plt.show()\n"
   ]
  },
  {
   "cell_type": "code",
   "execution_count": 15,
   "metadata": {},
   "outputs": [
    {
     "data": {
      "image/png": "[encoded data removed]",
      "text/plain": [
       "<Figure size 640x480 with 1 Axes>"
      ]
     },
     "metadata": {},
     "output_type": "display_data"
    }
   ],
   "source": [
    "model_train[['loss','val_loss']].plot()\n",
    "plt.title('Model Loss')\n",
    "plt.xlabel('Epoch')\n",
    "plt.ylabel('Loss')\n",
    "plt.legend(['Train','Validation'],loc='upper left')\n",
    "plt.show()"
   ]
  },
  {
   "cell_type": "code",
   "execution_count": null,
   "metadata": {},
   "outputs": [],
   "source": []
  }
 ],
 "metadata": {
  "kernelspec": {
   "display_name": "Python 3",
   "language": "python",
   "name": "python3"
  },
  "language_info": {
   "codemirror_mode": {
    "name": "ipython",
    "version": 3
   },
   "file_extension": ".py",
   "mimetype": "text/x-python",
   "name": "python",
   "nbconvert_exporter": "python",
   "pygments_lexer": "ipython3",
   "version": "3.10.12"
  }
 },
 "nbformat": 4,
 "nbformat_minor": 2
}
