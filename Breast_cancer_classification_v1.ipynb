{
 "cells": [
  {
   "cell_type": "code",
   "execution_count": 97,
   "metadata": {},
   "outputs": [],
   "source": [
    "import os\n",
    "import numpy as np\n",
    "import shutil\n",
    "import pandas as pd\n",
    "import matplotlib.pyplot as plt\n",
    "import seaborn as sns\n",
    "import itertools\n",
    "from skimage.filters import gaussian\n",
    "from skimage.util import random_noise\n",
    "import matplotlib.image as mpimg\n",
    "\n",
    "from sklearn.model_selection import train_test_split\n",
    "\n",
    "import tensorflow\n",
    "from tensorflow.keras.preprocessing.image import ImageDataGenerator\n",
    "from tensorflow.keras.models import Sequential\n",
    "from tensorflow.keras.models import model_from_json\n",
    "from tensorflow.keras.layers import Dense\n",
    "from tensorflow.keras.layers import Conv2D\n",
    "from tensorflow.keras.layers import MaxPool2D,Dropout,MaxPooling2D\n",
    "from tensorflow.keras.layers import Flatten\n",
    "from tensorflow.keras.callbacks import EarlyStopping,ModelCheckpoint\n",
    "from tensorflow.keras.optimizers import Adam, SGD\n",
    "from keras.metrics import binary_crossentropy"
   ]
  },
  {
   "cell_type": "code",
   "execution_count": 98,
   "metadata": {},
   "outputs": [],
   "source": [
    "# accsess the data files and dir\n",
    "cancer_rays_dir     = os.listdir(\"breast-cancer-classification/datasets/original/IDC_regular_ps50_idx5/\") \n",
    "all_rays_dir        = \"all_rays_dir\"  # is this path we will put all the images\n",
    "cancer_rays_dir_str =\"breast-cancer-classification/datasets/original/IDC_regular_ps50_idx5/\""
   ]
  },
  {
   "cell_type": "code",
   "execution_count": 99,
   "metadata": {},
   "outputs": [
    {
     "name": "stdout",
     "output_type": "stream",
     "text": [
      "['10282', '10288', '12933', '15472', '13692', '12954', '16568', '12883', '12951', '10307', '12824', '12896', '15634', '12882', '13106', '14210', '13404', '14154', '12819', '12880', '12242', '12751', '10255', '12910', '12932', '15514', '10286', '10290', '13403', '12909', '15473', '15513', '14082', '15515', '12811', '14079', '10278', '12930', '10256', '12897', '12823', '12905', '14305', '16085', '12868', '13617', '16014', '15471', '12949', '14304', '13693', '12931', '10293', '16553', '14191', '10306', '12875', '12748', '10264', '10253', '16166', '12626', '12817', '12900', '10261', '13019', '12879', '12869', '15903', '14192', '12935', '16534', '12907', '14306', '16896', '12872', '13018', '14188', '12867', '12878', '13613', '14156', '13020', '14155', '13022', '14190', '12750', '13694', '10277', '12895', '13461', '10262', '10275', '12826', '13666', '12955', '12870', '13400', '13462', '13687', '13691', '12908', '10276', '16165', '13460', '13916', '14081', '12911', '10274', '16533', '13458', '12241', '10303', '10257', '10272', '16570', '10308', '15632', '15840', '12894', '14157', '12881', '10279', '14321', '15510', '12893', '12948', '16552', '13025', '12891', '14211', '12901', '12810', '16569', '13689', '10291', '12934', '12906', '12898', '16550', '12892', '13023', '15839', '12752', '12820', '16895', '12876', '14078', '10269', '10299', '16555', '10273', '15516', '10304', '14189', '16554', '12821', '15902', '12929', '14209', '13616', '10300', '10254', '13591', '10302', '14213', '16531', '14153', '12890', '10260', '12873', '14212', '13401', '12886', '16532', '10268', '13021', '10259', '12749', '13688', '12947', '10295', '10305', '13024', '15633', '10285', '13459', '10301', '16551', '16167', '12871', '10292', '15512', '12884', '12877', '12818', '13402', '12822', '10258']\n",
      "199\n"
     ]
    }
   ],
   "source": [
    "print(cancer_rays_dir)\n",
    "print(len(cancer_rays_dir))"
   ]
  },
  {
   "cell_type": "markdown",
   "metadata": {},
   "source": [
    "To facilitate the process of dealing with screening mammograms images, we will collect all the images in one place, while retaining ownership of each image and its class as well..."
   ]
  },
  {
   "cell_type": "code",
   "execution_count": 100,
   "metadata": {},
   "outputs": [
    {
     "data": {
      "text/plain": [
       "277524"
      ]
     },
     "execution_count": 100,
     "metadata": {},
     "output_type": "execute_result"
    }
   ],
   "source": [
    "#os.mkdir(all_rays_dir) \n",
    "all_rays_dir_lst = os.listdir('./all_rays_dir') #get all images from this directory: /home/hp/Documents/DATA_SCIENCE/MACHINE_LEARNING_PROJECT/breast-cancer-classification/all_rays_dir\n",
    "len(all_rays_dir_lst)"
   ]
  },
  {
   "cell_type": "code",
   "execution_count": 101,
   "metadata": {},
   "outputs": [],
   "source": [
    "#Here we will move the images, but by adding a small part in their path, which indicates that they are negative or positive\n",
    "for patient in cancer_rays_dir:   \n",
    "    path_0 = cancer_rays_dir_str + str(patient) + '/0'\n",
    "    path_1 = cancer_rays_dir_str + str(patient) + '/1'\n",
    "    file_list_0 = os.listdir(path_0) # get all the image files in the path_0\n",
    "    file_list_1 = os.listdir(path_1) # get all the image files in the path_1\n",
    "    #copy the image files from the original dataset folder \"path_0\" to the destination folder \"all_rays_dir\"\n",
    "    for fname in file_list_0:\n",
    "            src = os.path.join(path_0, fname) # source dataset\n",
    "            dst = os.path.join(all_rays_dir, fname) # destination dataset\n",
    "            shutil.copyfile(src, dst)\n",
    "    for fname in file_list_1:\n",
    "        src = os.path.join(path_1, fname)\n",
    "        dst = os.path.join(all_rays_dir, fname)\n",
    "        shutil.copyfile(src, dst)"
   ]
  },
  {
   "cell_type": "code",
   "execution_count": 104,
   "metadata": {},
   "outputs": [
    {
     "data": {
      "text/html": [
       "<div>\n",
       "<style scoped>\n",
       "    .dataframe tbody tr th:only-of-type {\n",
       "        vertical-align: middle;\n",
       "    }\n",
       "\n",
       "    .dataframe tbody tr th {\n",
       "        vertical-align: top;\n",
       "    }\n",
       "\n",
       "    .dataframe thead th {\n",
       "        text-align: right;\n",
       "    }\n",
       "</style>\n",
       "<table border=\"1\" class=\"dataframe\">\n",
       "  <thead>\n",
       "    <tr style=\"text-align: right;\">\n",
       "      <th></th>\n",
       "      <th>image_id</th>\n",
       "    </tr>\n",
       "  </thead>\n",
       "  <tbody>\n",
       "    <tr>\n",
       "      <th>0</th>\n",
       "      <td>10299_idx5_x1851_y2251_class1.png</td>\n",
       "    </tr>\n",
       "    <tr>\n",
       "      <th>1</th>\n",
       "      <td>16550_idx5_x2251_y2351_class0.png</td>\n",
       "    </tr>\n",
       "    <tr>\n",
       "      <th>2</th>\n",
       "      <td>12954_idx5_x2201_y601_class0.png</td>\n",
       "    </tr>\n",
       "    <tr>\n",
       "      <th>3</th>\n",
       "      <td>10302_idx5_x901_y601_class0.png</td>\n",
       "    </tr>\n",
       "    <tr>\n",
       "      <th>4</th>\n",
       "      <td>13693_idx5_x2401_y1451_class0.png</td>\n",
       "    </tr>\n",
       "  </tbody>\n",
       "</table>\n",
       "</div>"
      ],
      "text/plain": [
       "                            image_id\n",
       "0  10299_idx5_x1851_y2251_class1.png\n",
       "1  16550_idx5_x2251_y2351_class0.png\n",
       "2   12954_idx5_x2201_y601_class0.png\n",
       "3    10302_idx5_x901_y601_class0.png\n",
       "4  13693_idx5_x2401_y1451_class0.png"
      ]
     },
     "execution_count": 104,
     "metadata": {},
     "output_type": "execute_result"
    }
   ],
   "source": [
    "#Then, it's time to put images in a data_frame for easy access:\n",
    "data = pd.DataFrame(all_rays_dir_lst, columns=['image_id'])\n",
    "data.head()"
   ]
  },
  {
   "cell_type": "code",
   "execution_count": null,
   "metadata": {},
   "outputs": [],
   "source": [
    "#Based on the addition that we added earlier in the path, we divide the data. \n",
    "# Image's names has a format [0]_[1]_[2]_[3]_[4].png ->use split() function to separate them\n",
    "def extract_target(x):\n",
    "    a = x.split('_')\n",
    "    b = a[4]\n",
    "    target = b[5] # target is either 0 or 1\n",
    "   # print(\"x is:\", x, \"----- a = \", a, \" ----- b = \", b, \"----- target = \", target)\n",
    "    return target\n",
    "\n",
    "data['target'] = data['image_id'].apply(extract_target) # define column 'target'\n"
   ]
  },
  {
   "cell_type": "code",
   "execution_count": 106,
   "metadata": {},
   "outputs": [
    {
     "data": {
      "text/plain": [
       "target\n",
       "0    198738\n",
       "1     78786\n",
       "Name: count, dtype: int64"
      ]
     },
     "execution_count": 106,
     "metadata": {},
     "output_type": "execute_result"
    }
   ],
   "source": [
    "data['target'].value_counts()"
   ]
  },
  {
   "cell_type": "code",
   "execution_count": 107,
   "metadata": {},
   "outputs": [
    {
     "name": "stdout",
     "output_type": "stream",
     "text": [
      "----- training data ----- \n",
      "                                 image_id target\n",
      "59557    12824_idx5_x1851_y201_class0.png      0\n",
      "13319    12890_idx5_x1501_y551_class0.png      0\n",
      "271044  15514_idx5_x1401_y1951_class0.png      0\n",
      "50462      8974_idx5_x401_y751_class0.png      0\n",
      "180418  13400_idx5_x2601_y2351_class0.png      0\n",
      "...                                   ...    ...\n",
      "216053   9383_idx5_x1451_y1701_class0.png      0\n",
      "165089   13688_idx5_x651_y1401_class0.png      0\n",
      "252183  10268_idx5_x2001_y1601_class0.png      0\n",
      "80727   12894_idx5_x2301_y2651_class0.png      0\n",
      "107225  16165_idx5_x3201_y1151_class0.png      0\n",
      "\n",
      "[249771 rows x 2 columns]\n",
      "----- testing data ----- \n",
      "                                 image_id target\n",
      "264310    9290_idx5_x2251_y451_class0.png      0\n",
      "17213    9226_idx5_x2201_y2301_class0.png      0\n",
      "83037    9123_idx5_x1901_y2051_class0.png      0\n",
      "83144    8918_idx5_x2051_y2051_class0.png      0\n",
      "141960  13916_idx5_x2001_y1201_class0.png      0\n",
      "...                                   ...    ...\n",
      "43448   13022_idx5_x3051_y1401_class0.png      0\n",
      "56612   15516_idx5_x1051_y2001_class0.png      0\n",
      "53126   14209_idx5_x1101_y1551_class1.png      1\n",
      "205339  12931_idx5_x1651_y1151_class0.png      0\n",
      "101177   15516_idx5_x2401_y151_class0.png      0\n",
      "\n",
      "[27753 rows x 2 columns]\n"
     ]
    }
   ],
   "source": [
    "y = data['target']\n",
    "data_train, data_test = train_test_split(data, test_size=0.10, random_state=101, stratify=y)\n",
    "print(\"----- training data ----- \")\n",
    "print(data_train)\n",
    "print(\"----- testing data ----- \")\n",
    "print(data_test)"
   ]
  },
  {
   "cell_type": "code",
   "execution_count": 109,
   "metadata": {},
   "outputs": [
    {
     "name": "stdout",
     "output_type": "stream",
     "text": [
      "train \n",
      "59557      12824_idx5_x1851_y201_class0.png\n",
      "13319      12890_idx5_x1501_y551_class0.png\n",
      "271044    15514_idx5_x1401_y1951_class0.png\n",
      "50462        8974_idx5_x401_y751_class0.png\n",
      "180418    13400_idx5_x2601_y2351_class0.png\n",
      "                        ...                \n",
      "216053     9383_idx5_x1451_y1701_class0.png\n",
      "165089     13688_idx5_x651_y1401_class0.png\n",
      "252183    10268_idx5_x2001_y1601_class0.png\n",
      "80727     12894_idx5_x2301_y2651_class0.png\n",
      "107225    16165_idx5_x3201_y1151_class0.png\n",
      "Name: image_id, Length: 249771, dtype: object\n"
     ]
    }
   ],
   "source": [
    "train = data_train.image_id\n",
    "test  = data_test.image_id\n",
    "print(\"train \")\n",
    "print(train)"
   ]
  },
  {
   "cell_type": "code",
   "execution_count": 110,
   "metadata": {},
   "outputs": [],
   "source": [
    "data.set_index('image_id', inplace=True)\n",
    "for image in train:\n",
    "    fname  = image\n",
    "    target = data.loc[image,'target']\n",
    "    \n",
    "    if target == '0':\n",
    "        label = 'zeros'\n",
    "    if target == '1':\n",
    "        label = 'ones'\n",
    "    src = os.path.join(all_rays_dir, fname)\n",
    "    dst = os.path.join('train_dir', label, fname)\n",
    "    shutil.copyfile(src, dst)"
   ]
  },
  {
   "cell_type": "code",
   "execution_count": 111,
   "metadata": {},
   "outputs": [],
   "source": [
    "for image in test:\n",
    "    fname = image\n",
    "    target = data.loc[image,'target']\n",
    "    if target == '0':\n",
    "        label = 'zeros'\n",
    "    if target == '1':\n",
    "        label = 'ones'\n",
    "    src = os.path.join(all_rays_dir, fname)\n",
    "    dst = os.path.join(\"test_dir\", label, fname)\n",
    "    shutil.copyfile(src, dst)"
   ]
  },
  {
   "cell_type": "code",
   "execution_count": 112,
   "metadata": {},
   "outputs": [
    {
     "name": "stdout",
     "output_type": "stream",
     "text": [
      "non-IDC train      = 180174\n",
      "IDC train          = 71307\n",
      "non-IDC validation = 21183\n",
      "IDC validation     = 8266\n"
     ]
    }
   ],
   "source": [
    "print('non-IDC train      =',len(os.listdir('train_dir/zeros')))\n",
    "print('IDC train          =',len(os.listdir('train_dir/ones')))\n",
    "print('non-IDC validation =',len(os.listdir('test_dir/zeros')))\n",
    "print('IDC validation     =',len(os.listdir('test_dir/ones')))"
   ]
  },
  {
   "cell_type": "code",
   "execution_count": 113,
   "metadata": {},
   "outputs": [],
   "source": [
    "data_generation = ImageDataGenerator(rescale=1.0/255)"
   ]
  },
  {
   "cell_type": "code",
   "execution_count": 114,
   "metadata": {},
   "outputs": [
    {
     "name": "stdout",
     "output_type": "stream",
     "text": [
      "Found 251481 images belonging to 2 classes.\n",
      "Found 29449 images belonging to 2 classes.\n"
     ]
    }
   ],
   "source": [
    "train_generation = data_generation.flow_from_directory(\n",
    "                                        \"train_dir\",\n",
    "                                        target_size=(25,25),\n",
    "                                        batch_size=10,\n",
    "                                        class_mode='categorical')\n",
    "test_generation = data_generation.flow_from_directory(\n",
    "                                        \"test_dir\",\n",
    "                                        target_size=(25,25),\n",
    "                                        batch_size=10,\n",
    "                                        class_mode='categorical')"
   ]
  },
  {
   "cell_type": "markdown",
   "metadata": {},
   "source": [
    "MODELLING"
   ]
  },
  {
   "cell_type": "markdown",
   "metadata": {},
   "source": [
    "In this step, I define a model consisting of 4 convolutional layers/hidden layers Conv2D(), activation function is Rectified Linear Units (ReLu), and the input of shape (25, 25, 3). I will then add the max-pooling layer with MaxPooling2D() after each convolutional layer. \n",
    "After 4 conv layers, I will flatten the 3D output to 1D using Flatten(), then add one Dense layer/fully connected layer on top to perform classification, this layer includes 64 nodes. To avoid the overfitting issue occuring while training, I add drop out = 0.5. The last Dense layer has a softmax activation function with 2 outputs corresponding to 2 classes of the problem, i.e IDC and non IDC classes."
   ]
  },
  {
   "cell_type": "code",
   "execution_count": 115,
   "metadata": {},
   "outputs": [
    {
     "name": "stderr",
     "output_type": "stream",
     "text": [
      "/home/hp/.local/lib/python3.10/site-packages/keras/src/layers/convolutional/base_conv.py:99: UserWarning: Do not pass an `input_shape`/`input_dim` argument to a layer. When using Sequential models, prefer using an `Input(shape)` object as the first layer in the model instead.\n",
      "  super().__init__(\n"
     ]
    },
    {
     "data": {
      "text/html": [
       "<pre style=\"white-space:pre;overflow-x:auto;line-height:normal;font-family:Menlo,'DejaVu Sans Mono',consolas,'Courier New',monospace\"><span style=\"font-weight: bold\">Model: \"sequential_3\"</span>\n",
       "</pre>\n"
      ],
      "text/plain": [
       "\u001b[1mModel: \"sequential_3\"\u001b[0m\n"
      ]
     },
     "metadata": {},
     "output_type": "display_data"
    },
    {
     "data": {
      "text/html": [
       "<pre style=\"white-space:pre;overflow-x:auto;line-height:normal;font-family:Menlo,'DejaVu Sans Mono',consolas,'Courier New',monospace\">┏━━━━━━━━━━━━━━━━━━━━━━━━━━━━━━━━━┳━━━━━━━━━━━━━━━━━━━━━━━━┳━━━━━━━━━━━━━━━┓\n",
       "┃<span style=\"font-weight: bold\"> Layer (type)                    </span>┃<span style=\"font-weight: bold\"> Output Shape           </span>┃<span style=\"font-weight: bold\">       Param # </span>┃\n",
       "┡━━━━━━━━━━━━━━━━━━━━━━━━━━━━━━━━━╇━━━━━━━━━━━━━━━━━━━━━━━━╇━━━━━━━━━━━━━━━┩\n",
       "│ conv2d_12 (<span style=\"color: #0087ff; text-decoration-color: #0087ff\">Conv2D</span>)              │ (<span style=\"color: #00d7ff; text-decoration-color: #00d7ff\">None</span>, <span style=\"color: #00af00; text-decoration-color: #00af00\">25</span>, <span style=\"color: #00af00; text-decoration-color: #00af00\">25</span>, <span style=\"color: #00af00; text-decoration-color: #00af00\">32</span>)     │           <span style=\"color: #00af00; text-decoration-color: #00af00\">896</span> │\n",
       "├─────────────────────────────────┼────────────────────────┼───────────────┤\n",
       "│ conv2d_13 (<span style=\"color: #0087ff; text-decoration-color: #0087ff\">Conv2D</span>)              │ (<span style=\"color: #00d7ff; text-decoration-color: #00d7ff\">None</span>, <span style=\"color: #00af00; text-decoration-color: #00af00\">25</span>, <span style=\"color: #00af00; text-decoration-color: #00af00\">25</span>, <span style=\"color: #00af00; text-decoration-color: #00af00\">32</span>)     │         <span style=\"color: #00af00; text-decoration-color: #00af00\">9,248</span> │\n",
       "├─────────────────────────────────┼────────────────────────┼───────────────┤\n",
       "│ max_pooling2d_9 (<span style=\"color: #0087ff; text-decoration-color: #0087ff\">MaxPooling2D</span>)  │ (<span style=\"color: #00d7ff; text-decoration-color: #00d7ff\">None</span>, <span style=\"color: #00af00; text-decoration-color: #00af00\">12</span>, <span style=\"color: #00af00; text-decoration-color: #00af00\">12</span>, <span style=\"color: #00af00; text-decoration-color: #00af00\">32</span>)     │             <span style=\"color: #00af00; text-decoration-color: #00af00\">0</span> │\n",
       "├─────────────────────────────────┼────────────────────────┼───────────────┤\n",
       "│ conv2d_14 (<span style=\"color: #0087ff; text-decoration-color: #0087ff\">Conv2D</span>)              │ (<span style=\"color: #00d7ff; text-decoration-color: #00d7ff\">None</span>, <span style=\"color: #00af00; text-decoration-color: #00af00\">12</span>, <span style=\"color: #00af00; text-decoration-color: #00af00\">12</span>, <span style=\"color: #00af00; text-decoration-color: #00af00\">64</span>)     │        <span style=\"color: #00af00; text-decoration-color: #00af00\">18,496</span> │\n",
       "├─────────────────────────────────┼────────────────────────┼───────────────┤\n",
       "│ max_pooling2d_10 (<span style=\"color: #0087ff; text-decoration-color: #0087ff\">MaxPooling2D</span>) │ (<span style=\"color: #00d7ff; text-decoration-color: #00d7ff\">None</span>, <span style=\"color: #00af00; text-decoration-color: #00af00\">6</span>, <span style=\"color: #00af00; text-decoration-color: #00af00\">6</span>, <span style=\"color: #00af00; text-decoration-color: #00af00\">64</span>)       │             <span style=\"color: #00af00; text-decoration-color: #00af00\">0</span> │\n",
       "├─────────────────────────────────┼────────────────────────┼───────────────┤\n",
       "│ conv2d_15 (<span style=\"color: #0087ff; text-decoration-color: #0087ff\">Conv2D</span>)              │ (<span style=\"color: #00d7ff; text-decoration-color: #00d7ff\">None</span>, <span style=\"color: #00af00; text-decoration-color: #00af00\">6</span>, <span style=\"color: #00af00; text-decoration-color: #00af00\">6</span>, <span style=\"color: #00af00; text-decoration-color: #00af00\">64</span>)       │        <span style=\"color: #00af00; text-decoration-color: #00af00\">36,928</span> │\n",
       "├─────────────────────────────────┼────────────────────────┼───────────────┤\n",
       "│ max_pooling2d_11 (<span style=\"color: #0087ff; text-decoration-color: #0087ff\">MaxPooling2D</span>) │ (<span style=\"color: #00d7ff; text-decoration-color: #00d7ff\">None</span>, <span style=\"color: #00af00; text-decoration-color: #00af00\">3</span>, <span style=\"color: #00af00; text-decoration-color: #00af00\">3</span>, <span style=\"color: #00af00; text-decoration-color: #00af00\">64</span>)       │             <span style=\"color: #00af00; text-decoration-color: #00af00\">0</span> │\n",
       "├─────────────────────────────────┼────────────────────────┼───────────────┤\n",
       "│ flatten_3 (<span style=\"color: #0087ff; text-decoration-color: #0087ff\">Flatten</span>)             │ (<span style=\"color: #00d7ff; text-decoration-color: #00d7ff\">None</span>, <span style=\"color: #00af00; text-decoration-color: #00af00\">576</span>)            │             <span style=\"color: #00af00; text-decoration-color: #00af00\">0</span> │\n",
       "├─────────────────────────────────┼────────────────────────┼───────────────┤\n",
       "│ dense_6 (<span style=\"color: #0087ff; text-decoration-color: #0087ff\">Dense</span>)                 │ (<span style=\"color: #00d7ff; text-decoration-color: #00d7ff\">None</span>, <span style=\"color: #00af00; text-decoration-color: #00af00\">64</span>)             │        <span style=\"color: #00af00; text-decoration-color: #00af00\">36,928</span> │\n",
       "├─────────────────────────────────┼────────────────────────┼───────────────┤\n",
       "│ dropout_3 (<span style=\"color: #0087ff; text-decoration-color: #0087ff\">Dropout</span>)             │ (<span style=\"color: #00d7ff; text-decoration-color: #00d7ff\">None</span>, <span style=\"color: #00af00; text-decoration-color: #00af00\">64</span>)             │             <span style=\"color: #00af00; text-decoration-color: #00af00\">0</span> │\n",
       "├─────────────────────────────────┼────────────────────────┼───────────────┤\n",
       "│ dense_7 (<span style=\"color: #0087ff; text-decoration-color: #0087ff\">Dense</span>)                 │ (<span style=\"color: #00d7ff; text-decoration-color: #00d7ff\">None</span>, <span style=\"color: #00af00; text-decoration-color: #00af00\">2</span>)              │           <span style=\"color: #00af00; text-decoration-color: #00af00\">130</span> │\n",
       "└─────────────────────────────────┴────────────────────────┴───────────────┘\n",
       "</pre>\n"
      ],
      "text/plain": [
       "┏━━━━━━━━━━━━━━━━━━━━━━━━━━━━━━━━━┳━━━━━━━━━━━━━━━━━━━━━━━━┳━━━━━━━━━━━━━━━┓\n",
       "┃\u001b[1m \u001b[0m\u001b[1mLayer (type)                   \u001b[0m\u001b[1m \u001b[0m┃\u001b[1m \u001b[0m\u001b[1mOutput Shape          \u001b[0m\u001b[1m \u001b[0m┃\u001b[1m \u001b[0m\u001b[1m      Param #\u001b[0m\u001b[1m \u001b[0m┃\n",
       "┡━━━━━━━━━━━━━━━━━━━━━━━━━━━━━━━━━╇━━━━━━━━━━━━━━━━━━━━━━━━╇━━━━━━━━━━━━━━━┩\n",
       "│ conv2d_12 (\u001b[38;5;33mConv2D\u001b[0m)              │ (\u001b[38;5;45mNone\u001b[0m, \u001b[38;5;34m25\u001b[0m, \u001b[38;5;34m25\u001b[0m, \u001b[38;5;34m32\u001b[0m)     │           \u001b[38;5;34m896\u001b[0m │\n",
       "├─────────────────────────────────┼────────────────────────┼───────────────┤\n",
       "│ conv2d_13 (\u001b[38;5;33mConv2D\u001b[0m)              │ (\u001b[38;5;45mNone\u001b[0m, \u001b[38;5;34m25\u001b[0m, \u001b[38;5;34m25\u001b[0m, \u001b[38;5;34m32\u001b[0m)     │         \u001b[38;5;34m9,248\u001b[0m │\n",
       "├─────────────────────────────────┼────────────────────────┼───────────────┤\n",
       "│ max_pooling2d_9 (\u001b[38;5;33mMaxPooling2D\u001b[0m)  │ (\u001b[38;5;45mNone\u001b[0m, \u001b[38;5;34m12\u001b[0m, \u001b[38;5;34m12\u001b[0m, \u001b[38;5;34m32\u001b[0m)     │             \u001b[38;5;34m0\u001b[0m │\n",
       "├─────────────────────────────────┼────────────────────────┼───────────────┤\n",
       "│ conv2d_14 (\u001b[38;5;33mConv2D\u001b[0m)              │ (\u001b[38;5;45mNone\u001b[0m, \u001b[38;5;34m12\u001b[0m, \u001b[38;5;34m12\u001b[0m, \u001b[38;5;34m64\u001b[0m)     │        \u001b[38;5;34m18,496\u001b[0m │\n",
       "├─────────────────────────────────┼────────────────────────┼───────────────┤\n",
       "│ max_pooling2d_10 (\u001b[38;5;33mMaxPooling2D\u001b[0m) │ (\u001b[38;5;45mNone\u001b[0m, \u001b[38;5;34m6\u001b[0m, \u001b[38;5;34m6\u001b[0m, \u001b[38;5;34m64\u001b[0m)       │             \u001b[38;5;34m0\u001b[0m │\n",
       "├─────────────────────────────────┼────────────────────────┼───────────────┤\n",
       "│ conv2d_15 (\u001b[38;5;33mConv2D\u001b[0m)              │ (\u001b[38;5;45mNone\u001b[0m, \u001b[38;5;34m6\u001b[0m, \u001b[38;5;34m6\u001b[0m, \u001b[38;5;34m64\u001b[0m)       │        \u001b[38;5;34m36,928\u001b[0m │\n",
       "├─────────────────────────────────┼────────────────────────┼───────────────┤\n",
       "│ max_pooling2d_11 (\u001b[38;5;33mMaxPooling2D\u001b[0m) │ (\u001b[38;5;45mNone\u001b[0m, \u001b[38;5;34m3\u001b[0m, \u001b[38;5;34m3\u001b[0m, \u001b[38;5;34m64\u001b[0m)       │             \u001b[38;5;34m0\u001b[0m │\n",
       "├─────────────────────────────────┼────────────────────────┼───────────────┤\n",
       "│ flatten_3 (\u001b[38;5;33mFlatten\u001b[0m)             │ (\u001b[38;5;45mNone\u001b[0m, \u001b[38;5;34m576\u001b[0m)            │             \u001b[38;5;34m0\u001b[0m │\n",
       "├─────────────────────────────────┼────────────────────────┼───────────────┤\n",
       "│ dense_6 (\u001b[38;5;33mDense\u001b[0m)                 │ (\u001b[38;5;45mNone\u001b[0m, \u001b[38;5;34m64\u001b[0m)             │        \u001b[38;5;34m36,928\u001b[0m │\n",
       "├─────────────────────────────────┼────────────────────────┼───────────────┤\n",
       "│ dropout_3 (\u001b[38;5;33mDropout\u001b[0m)             │ (\u001b[38;5;45mNone\u001b[0m, \u001b[38;5;34m64\u001b[0m)             │             \u001b[38;5;34m0\u001b[0m │\n",
       "├─────────────────────────────────┼────────────────────────┼───────────────┤\n",
       "│ dense_7 (\u001b[38;5;33mDense\u001b[0m)                 │ (\u001b[38;5;45mNone\u001b[0m, \u001b[38;5;34m2\u001b[0m)              │           \u001b[38;5;34m130\u001b[0m │\n",
       "└─────────────────────────────────┴────────────────────────┴───────────────┘\n"
      ]
     },
     "metadata": {},
     "output_type": "display_data"
    },
    {
     "data": {
      "text/html": [
       "<pre style=\"white-space:pre;overflow-x:auto;line-height:normal;font-family:Menlo,'DejaVu Sans Mono',consolas,'Courier New',monospace\"><span style=\"font-weight: bold\"> Total params: </span><span style=\"color: #00af00; text-decoration-color: #00af00\">102,626</span> (400.88 KB)\n",
       "</pre>\n"
      ],
      "text/plain": [
       "\u001b[1m Total params: \u001b[0m\u001b[38;5;34m102,626\u001b[0m (400.88 KB)\n"
      ]
     },
     "metadata": {},
     "output_type": "display_data"
    },
    {
     "data": {
      "text/html": [
       "<pre style=\"white-space:pre;overflow-x:auto;line-height:normal;font-family:Menlo,'DejaVu Sans Mono',consolas,'Courier New',monospace\"><span style=\"font-weight: bold\"> Trainable params: </span><span style=\"color: #00af00; text-decoration-color: #00af00\">102,626</span> (400.88 KB)\n",
       "</pre>\n"
      ],
      "text/plain": [
       "\u001b[1m Trainable params: \u001b[0m\u001b[38;5;34m102,626\u001b[0m (400.88 KB)\n"
      ]
     },
     "metadata": {},
     "output_type": "display_data"
    },
    {
     "data": {
      "text/html": [
       "<pre style=\"white-space:pre;overflow-x:auto;line-height:normal;font-family:Menlo,'DejaVu Sans Mono',consolas,'Courier New',monospace\"><span style=\"font-weight: bold\"> Non-trainable params: </span><span style=\"color: #00af00; text-decoration-color: #00af00\">0</span> (0.00 B)\n",
       "</pre>\n"
      ],
      "text/plain": [
       "\u001b[1m Non-trainable params: \u001b[0m\u001b[38;5;34m0\u001b[0m (0.00 B)\n"
      ]
     },
     "metadata": {},
     "output_type": "display_data"
    }
   ],
   "source": [
    "model = Sequential()\n",
    "# 1st Conv layer has 32 - 3x3 filters/kernels\n",
    "model.add(Conv2D(32, (3, 3), activation='relu', kernel_initializer='he_uniform', padding='same', input_shape=(25, 25, 3))) \n",
    "#image_height=25, image_width=25, image_depth=3(R,G,B)\n",
    "\n",
    "# 2nd Conv layer has 32 - 3x3 filters/kernels\n",
    "model.add(Conv2D(32, (3, 3), activation='relu', kernel_initializer='he_uniform', padding='same'))\n",
    "model.add(MaxPooling2D((2, 2)))   # max-pooling layers each of size 2x2\n",
    "\n",
    "# 3rd Conv layer has 64 - 3x3 filters/kernels\n",
    "model.add(Conv2D(64, (3, 3), activation='relu', kernel_initializer='he_uniform', padding='same'))\n",
    "model.add(MaxPooling2D((2, 2))) \n",
    "\n",
    "# 4nd Conv layer has 64 - 3x3 filters/kernels\n",
    "model.add(Conv2D(64, (3, 3), activation='relu', kernel_initializer='he_uniform', padding='same'))\n",
    "model.add(MaxPooling2D((2, 2)))\n",
    "\n",
    "#flatten (or unroll) the 3D output to 1D\n",
    "model.add(Flatten()) \n",
    "\n",
    "#add two Dense layers/fully connected layers on top to perform classification. This layer has 64 nodes\n",
    "model.add(Dense(64, activation='relu', kernel_initializer='he_uniform'))\n",
    "#in order to avoid overfitting, adding dropout=0.5\n",
    "model.add(Dropout(0.5))\n",
    "#This following dense layer uses a softmax activation function to produce a probability distribution over the classes. Here we have 2 classes: IDC and non IDC => Dense(2)\n",
    "model.add(Dense(2, activation='softmax')) \n",
    "model.summary()"
   ]
  },
  {
   "cell_type": "markdown",
   "metadata": {},
   "source": [
    "COMPILE THE MODEL\n",
    "\n",
    "Once the model is created, I compile it with Adam optimizer, a common optimization algorithm with learning rate = 1e-06. I pick this small number of learning rate to let the model learns the dataset slower but deeper compared to a large value. The loss function is the binary cross-entropy which is used to multi-class classification. Lastly, I specify the metrics as accuracy which I want to analyze while the model is training.\n"
   ]
  },
  {
   "cell_type": "code",
   "execution_count": 116,
   "metadata": {},
   "outputs": [],
   "source": [
    "#compile model\n",
    "model.compile(Adam(learning_rate= 1e-4), loss='binary_crossentropy', metrics=['accuracy'])"
   ]
  },
  {
   "cell_type": "markdown",
   "metadata": {},
   "source": [
    "TRAIN THE MODEL\n",
    "\n",
    "The model will be fit for 10 training epochs, the validation dataset is the test dataset. "
   ]
  },
  {
   "cell_type": "code",
   "execution_count": 117,
   "metadata": {},
   "outputs": [
    {
     "name": "stdout",
     "output_type": "stream",
     "text": [
      "Epoch 1/10\n",
      "\u001b[1m   23/25149\u001b[0m \u001b[37m━━━━━━━━━━━━━━━━━━━━\u001b[0m \u001b[1m1:58\u001b[0m 5ms/step - accuracy: 0.5461 - loss: 0.9196 "
     ]
    },
    {
     "name": "stderr",
     "output_type": "stream",
     "text": [
      "/home/hp/.local/lib/python3.10/site-packages/keras/src/trainers/data_adapters/py_dataset_adapter.py:120: UserWarning: Your `PyDataset` class should call `super().__init__(**kwargs)` in its constructor. `**kwargs` can include `workers`, `use_multiprocessing`, `max_queue_size`. Do not pass these arguments to `fit()`, as they will be ignored.\n",
      "  self._warn_if_super_not_called()\n"
     ]
    },
    {
     "name": "stdout",
     "output_type": "stream",
     "text": [
      "\u001b[1m25149/25149\u001b[0m \u001b[32m━━━━━━━━━━━━━━━━━━━━\u001b[0m\u001b[37m\u001b[0m \u001b[1m122s\u001b[0m 5ms/step - accuracy: 0.8092 - loss: 0.4343 - val_accuracy: 0.8509 - val_loss: 0.3487\n",
      "Epoch 2/10\n",
      "\u001b[1m25149/25149\u001b[0m \u001b[32m━━━━━━━━━━━━━━━━━━━━\u001b[0m\u001b[37m\u001b[0m \u001b[1m127s\u001b[0m 5ms/step - accuracy: 0.8479 - loss: 0.3592 - val_accuracy: 0.8538 - val_loss: 0.3387\n",
      "Epoch 3/10\n",
      "\u001b[1m25149/25149\u001b[0m \u001b[32m━━━━━━━━━━━━━━━━━━━━\u001b[0m\u001b[37m\u001b[0m \u001b[1m128s\u001b[0m 5ms/step - accuracy: 0.8586 - loss: 0.3359 - val_accuracy: 0.8638 - val_loss: 0.3148\n",
      "Epoch 4/10\n",
      "\u001b[1m25149/25149\u001b[0m \u001b[32m━━━━━━━━━━━━━━━━━━━━\u001b[0m\u001b[37m\u001b[0m \u001b[1m125s\u001b[0m 5ms/step - accuracy: 0.8649 - loss: 0.3230 - val_accuracy: 0.8654 - val_loss: 0.3102\n",
      "Epoch 5/10\n",
      "\u001b[1m25149/25149\u001b[0m \u001b[32m━━━━━━━━━━━━━━━━━━━━\u001b[0m\u001b[37m\u001b[0m \u001b[1m127s\u001b[0m 5ms/step - accuracy: 0.8686 - loss: 0.3119 - val_accuracy: 0.8703 - val_loss: 0.3019\n",
      "Epoch 6/10\n",
      "\u001b[1m25149/25149\u001b[0m \u001b[32m━━━━━━━━━━━━━━━━━━━━\u001b[0m\u001b[37m\u001b[0m \u001b[1m104s\u001b[0m 4ms/step - accuracy: 0.8720 - loss: 0.3051 - val_accuracy: 0.8710 - val_loss: 0.3020\n",
      "Epoch 7/10\n",
      "\u001b[1m25149/25149\u001b[0m \u001b[32m━━━━━━━━━━━━━━━━━━━━\u001b[0m\u001b[37m\u001b[0m \u001b[1m107s\u001b[0m 4ms/step - accuracy: 0.8745 - loss: 0.2999 - val_accuracy: 0.8746 - val_loss: 0.2943\n",
      "Epoch 8/10\n",
      "\u001b[1m25149/25149\u001b[0m \u001b[32m━━━━━━━━━━━━━━━━━━━━\u001b[0m\u001b[37m\u001b[0m \u001b[1m110s\u001b[0m 4ms/step - accuracy: 0.8769 - loss: 0.2935 - val_accuracy: 0.8753 - val_loss: 0.2918\n",
      "Epoch 9/10\n",
      "\u001b[1m25149/25149\u001b[0m \u001b[32m━━━━━━━━━━━━━━━━━━━━\u001b[0m\u001b[37m\u001b[0m \u001b[1m109s\u001b[0m 4ms/step - accuracy: 0.8795 - loss: 0.2887 - val_accuracy: 0.8726 - val_loss: 0.3012\n",
      "Epoch 10/10\n",
      "\u001b[1m25149/25149\u001b[0m \u001b[32m━━━━━━━━━━━━━━━━━━━━\u001b[0m\u001b[37m\u001b[0m \u001b[1m110s\u001b[0m 4ms/step - accuracy: 0.8819 - loss: 0.2816 - val_accuracy: 0.8760 - val_loss: 0.2922\n"
     ]
    },
    {
     "data": {
      "text/plain": [
       "<keras.src.callbacks.history.History at 0x7e1c242f7d60>"
      ]
     },
     "execution_count": 117,
     "metadata": {},
     "output_type": "execute_result"
    }
   ],
   "source": [
    "model.fit(train_generation,validation_data=test_generation, epochs= 10, verbose=1)"
   ]
  },
  {
   "cell_type": "markdown",
   "metadata": {},
   "source": [
    "This code snippet shows the training and validation accuracy and loss values for a neural network model over 10 epochs.\n",
    "• The model is trained on a dataset of 249771 samples and validated on a dataset of 27753 samples.\n",
    "• During each epoch, the model is trained on the training dataset and the validation accuracy and loss values are calculated on the validation dataset.\n",
    "• The accuracy and val_accuracy values represent the accuracy of the model on the training and validation datasets, respectively.\n",
    "• The loss and val_loss values represent the loss of the model on the training and validation datasets, respectively.\n",
    "• The fit method of the Keras API is used to train the model.\n",
    "• The fit method takes in the training and validation datasets, the number of epochs to train for, and other parameters such as batch size and optimizer.\n",
    "• Overall, this code snippet shows the training and validation performance of a neural network model over multiple epochs."
   ]
  },
  {
   "cell_type": "markdown",
   "metadata": {},
   "source": [
    "OUTCOMES"
   ]
  },
  {
   "cell_type": "code",
   "execution_count": 118,
   "metadata": {},
   "outputs": [
    {
     "data": {
      "text/html": [
       "<div>\n",
       "<style scoped>\n",
       "    .dataframe tbody tr th:only-of-type {\n",
       "        vertical-align: middle;\n",
       "    }\n",
       "\n",
       "    .dataframe tbody tr th {\n",
       "        vertical-align: top;\n",
       "    }\n",
       "\n",
       "    .dataframe thead th {\n",
       "        text-align: right;\n",
       "    }\n",
       "</style>\n",
       "<table border=\"1\" class=\"dataframe\">\n",
       "  <thead>\n",
       "    <tr style=\"text-align: right;\">\n",
       "      <th></th>\n",
       "      <th>accuracy</th>\n",
       "      <th>loss</th>\n",
       "      <th>val_accuracy</th>\n",
       "      <th>val_loss</th>\n",
       "    </tr>\n",
       "  </thead>\n",
       "  <tbody>\n",
       "    <tr>\n",
       "      <th>0</th>\n",
       "      <td>0.828218</td>\n",
       "      <td>0.400456</td>\n",
       "      <td>0.850895</td>\n",
       "      <td>0.348684</td>\n",
       "    </tr>\n",
       "    <tr>\n",
       "      <th>1</th>\n",
       "      <td>0.850565</td>\n",
       "      <td>0.352869</td>\n",
       "      <td>0.853781</td>\n",
       "      <td>0.338700</td>\n",
       "    </tr>\n",
       "    <tr>\n",
       "      <th>2</th>\n",
       "      <td>0.859373</td>\n",
       "      <td>0.333418</td>\n",
       "      <td>0.863832</td>\n",
       "      <td>0.314804</td>\n",
       "    </tr>\n",
       "    <tr>\n",
       "      <th>3</th>\n",
       "      <td>0.865028</td>\n",
       "      <td>0.321132</td>\n",
       "      <td>0.865394</td>\n",
       "      <td>0.310187</td>\n",
       "    </tr>\n",
       "    <tr>\n",
       "      <th>4</th>\n",
       "      <td>0.868650</td>\n",
       "      <td>0.312420</td>\n",
       "      <td>0.870250</td>\n",
       "      <td>0.301931</td>\n",
       "    </tr>\n",
       "    <tr>\n",
       "      <th>5</th>\n",
       "      <td>0.871529</td>\n",
       "      <td>0.305908</td>\n",
       "      <td>0.870963</td>\n",
       "      <td>0.302013</td>\n",
       "    </tr>\n",
       "    <tr>\n",
       "      <th>6</th>\n",
       "      <td>0.874659</td>\n",
       "      <td>0.299709</td>\n",
       "      <td>0.874631</td>\n",
       "      <td>0.294279</td>\n",
       "    </tr>\n",
       "    <tr>\n",
       "      <th>7</th>\n",
       "      <td>0.876523</td>\n",
       "      <td>0.294442</td>\n",
       "      <td>0.875310</td>\n",
       "      <td>0.291752</td>\n",
       "    </tr>\n",
       "    <tr>\n",
       "      <th>8</th>\n",
       "      <td>0.879045</td>\n",
       "      <td>0.288722</td>\n",
       "      <td>0.872593</td>\n",
       "      <td>0.301173</td>\n",
       "    </tr>\n",
       "    <tr>\n",
       "      <th>9</th>\n",
       "      <td>0.881255</td>\n",
       "      <td>0.283450</td>\n",
       "      <td>0.875989</td>\n",
       "      <td>0.292180</td>\n",
       "    </tr>\n",
       "  </tbody>\n",
       "</table>\n",
       "</div>"
      ],
      "text/plain": [
       "   accuracy      loss  val_accuracy  val_loss\n",
       "0  0.828218  0.400456      0.850895  0.348684\n",
       "1  0.850565  0.352869      0.853781  0.338700\n",
       "2  0.859373  0.333418      0.863832  0.314804\n",
       "3  0.865028  0.321132      0.865394  0.310187\n",
       "4  0.868650  0.312420      0.870250  0.301931\n",
       "5  0.871529  0.305908      0.870963  0.302013\n",
       "6  0.874659  0.299709      0.874631  0.294279\n",
       "7  0.876523  0.294442      0.875310  0.291752\n",
       "8  0.879045  0.288722      0.872593  0.301173\n",
       "9  0.881255  0.283450      0.875989  0.292180"
      ]
     },
     "execution_count": 118,
     "metadata": {},
     "output_type": "execute_result"
    }
   ],
   "source": [
    "model_train = pd.DataFrame(model.history.history)\n",
    "model_train.head(10)"
   ]
  },
  {
   "cell_type": "code",
   "execution_count": 119,
   "metadata": {},
   "outputs": [
    {
     "data": {
      "image/png": "[encoded data removed]",
      "text/plain": [
       "<Figure size 640x480 with 1 Axes>"
      ]
     },
     "metadata": {},
     "output_type": "display_data"
    }
   ],
   "source": [
    "model_train[['accuracy','val_accuracy']].plot()\n",
    "plt.title('Model Accuracy')\n",
    "plt.xlabel('Epoch')\n",
    "plt.ylabel('Accuracy')\n",
    "plt.legend(['Train','Validation'],loc='upper left')\n",
    "plt.show()\n"
   ]
  },
  {
   "cell_type": "code",
   "execution_count": 120,
   "metadata": {},
   "outputs": [
    {
     "data": {
      "image/png": "[encoded data removed]",
      "text/plain": [
       "<Figure size 640x480 with 1 Axes>"
      ]
     },
     "metadata": {},
     "output_type": "display_data"
    }
   ],
   "source": [
    "model_train[['loss','val_loss']].plot()\n",
    "plt.title('Model Loss')\n",
    "plt.xlabel('Epoch')\n",
    "plt.ylabel('Loss')\n",
    "plt.legend(['Train','Validation'],loc='upper left')\n",
    "plt.show()"
   ]
  }
 ],
 "metadata": {
  "kernelspec": {
   "display_name": "Python 3",
   "language": "python",
   "name": "python3"
  },
  "language_info": {
   "codemirror_mode": {
    "name": "ipython",
    "version": 3
   },
   "file_extension": ".py",
   "mimetype": "text/x-python",
   "name": "python",
   "nbconvert_exporter": "python",
   "pygments_lexer": "ipython3",
   "version": "3.10.12"
  }
 },
 "nbformat": 4,
 "nbformat_minor": 2
}
